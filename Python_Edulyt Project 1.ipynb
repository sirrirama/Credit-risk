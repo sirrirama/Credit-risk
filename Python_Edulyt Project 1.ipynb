{
 "cells": [
  {
   "cell_type": "markdown",
   "id": "8d1cc6f9",
   "metadata": {},
   "source": [
    "# Edulyt Project- Credit Banking_Project1"
   ]
  },
  {
   "cell_type": "markdown",
   "id": "bfd33f67",
   "metadata": {},
   "source": [
    "### -Sriram Kumar\n",
    "###  EI01012"
   ]
  },
  {
   "cell_type": "code",
   "execution_count": 1,
   "id": "6f0a4498",
   "metadata": {},
   "outputs": [],
   "source": [
    "import pandas as pd\n",
    "import numpy as np"
   ]
  },
  {
   "cell_type": "code",
   "execution_count": 2,
   "id": "c3dd7d19",
   "metadata": {},
   "outputs": [
    {
     "data": {
      "text/html": [
       "<div>\n",
       "<style scoped>\n",
       "    .dataframe tbody tr th:only-of-type {\n",
       "        vertical-align: middle;\n",
       "    }\n",
       "\n",
       "    .dataframe tbody tr th {\n",
       "        vertical-align: top;\n",
       "    }\n",
       "\n",
       "    .dataframe thead th {\n",
       "        text-align: right;\n",
       "    }\n",
       "</style>\n",
       "<table border=\"1\" class=\"dataframe\">\n",
       "  <thead>\n",
       "    <tr style=\"text-align: right;\">\n",
       "      <th></th>\n",
       "      <th>Customer</th>\n",
       "      <th>Age</th>\n",
       "      <th>City</th>\n",
       "      <th>Credit Card Product</th>\n",
       "      <th>Limit</th>\n",
       "      <th>Company</th>\n",
       "      <th>Segment</th>\n",
       "      <th>AGE main</th>\n",
       "      <th>SpendAmt</th>\n",
       "      <th>ReptAmt</th>\n",
       "      <th>AgeGrp</th>\n",
       "    </tr>\n",
       "    <tr>\n",
       "      <th>Sl No:</th>\n",
       "      <th></th>\n",
       "      <th></th>\n",
       "      <th></th>\n",
       "      <th></th>\n",
       "      <th></th>\n",
       "      <th></th>\n",
       "      <th></th>\n",
       "      <th></th>\n",
       "      <th></th>\n",
       "      <th></th>\n",
       "      <th></th>\n",
       "    </tr>\n",
       "  </thead>\n",
       "  <tbody>\n",
       "    <tr>\n",
       "      <th>1</th>\n",
       "      <td>A1</td>\n",
       "      <td>0.9285</td>\n",
       "      <td>BANGALORE</td>\n",
       "      <td>Gold</td>\n",
       "      <td>500000</td>\n",
       "      <td>C1</td>\n",
       "      <td>Self Employed</td>\n",
       "      <td>49.29</td>\n",
       "      <td>4858294.33</td>\n",
       "      <td>3831937.75</td>\n",
       "      <td>40-50</td>\n",
       "    </tr>\n",
       "    <tr>\n",
       "      <th>2</th>\n",
       "      <td>A2</td>\n",
       "      <td>35.5346</td>\n",
       "      <td>CALCUTTA</td>\n",
       "      <td>Silver</td>\n",
       "      <td>100000</td>\n",
       "      <td>C2</td>\n",
       "      <td>Salaried_MNC</td>\n",
       "      <td>35.53</td>\n",
       "      <td>3151947.44</td>\n",
       "      <td>3653252.17</td>\n",
       "      <td>30-40</td>\n",
       "    </tr>\n",
       "    <tr>\n",
       "      <th>3</th>\n",
       "      <td>A3</td>\n",
       "      <td>11.5593</td>\n",
       "      <td>COCHIN</td>\n",
       "      <td>Platimum</td>\n",
       "      <td>10000</td>\n",
       "      <td>C3</td>\n",
       "      <td>Salaried_Pvt</td>\n",
       "      <td>49.29</td>\n",
       "      <td>2871164.31</td>\n",
       "      <td>2055044.10</td>\n",
       "      <td>40-50</td>\n",
       "    </tr>\n",
       "    <tr>\n",
       "      <th>4</th>\n",
       "      <td>A4</td>\n",
       "      <td>45.8203</td>\n",
       "      <td>BOMBAY</td>\n",
       "      <td>Platimum</td>\n",
       "      <td>10001</td>\n",
       "      <td>C4</td>\n",
       "      <td>Govt</td>\n",
       "      <td>45.82</td>\n",
       "      <td>3121668.97</td>\n",
       "      <td>2507424.49</td>\n",
       "      <td>40-50</td>\n",
       "    </tr>\n",
       "    <tr>\n",
       "      <th>5</th>\n",
       "      <td>A5</td>\n",
       "      <td>69.6639</td>\n",
       "      <td>BANGALORE</td>\n",
       "      <td>Platimum</td>\n",
       "      <td>10002</td>\n",
       "      <td>C5</td>\n",
       "      <td>Normal Salary</td>\n",
       "      <td>69.66</td>\n",
       "      <td>4816555.21</td>\n",
       "      <td>5125186.89</td>\n",
       "      <td>60-70</td>\n",
       "    </tr>\n",
       "  </tbody>\n",
       "</table>\n",
       "</div>"
      ],
      "text/plain": [
       "       Customer      Age       City Credit Card Product   Limit Company  \\\n",
       "Sl No:                                                                    \n",
       "1            A1   0.9285  BANGALORE                Gold  500000      C1   \n",
       "2            A2  35.5346   CALCUTTA              Silver  100000      C2   \n",
       "3            A3  11.5593     COCHIN            Platimum   10000      C3   \n",
       "4            A4  45.8203     BOMBAY            Platimum   10001      C4   \n",
       "5            A5  69.6639  BANGALORE            Platimum   10002      C5   \n",
       "\n",
       "              Segment  AGE main    SpendAmt     ReptAmt AgeGrp  \n",
       "Sl No:                                                          \n",
       "1       Self Employed     49.29  4858294.33  3831937.75  40-50  \n",
       "2        Salaried_MNC     35.53  3151947.44  3653252.17  30-40  \n",
       "3        Salaried_Pvt     49.29  2871164.31  2055044.10  40-50  \n",
       "4                Govt     45.82  3121668.97  2507424.49  40-50  \n",
       "5       Normal Salary     69.66  4816555.21  5125186.89  60-70  "
      ]
     },
     "execution_count": 2,
     "metadata": {},
     "output_type": "execute_result"
    }
   ],
   "source": [
    "certi=pd.read_csv(\"E:\\Edulyt Projects\\Proj 1\\certification.csv\",index_col=0)\n",
    "certi.head()"
   ]
  },
  {
   "cell_type": "code",
   "execution_count": 85,
   "id": "4b3c0fad",
   "metadata": {},
   "outputs": [
    {
     "data": {
      "text/html": [
       "<div>\n",
       "<style scoped>\n",
       "    .dataframe tbody tr th:only-of-type {\n",
       "        vertical-align: middle;\n",
       "    }\n",
       "\n",
       "    .dataframe tbody tr th {\n",
       "        vertical-align: top;\n",
       "    }\n",
       "\n",
       "    .dataframe thead th {\n",
       "        text-align: right;\n",
       "    }\n",
       "</style>\n",
       "<table border=\"1\" class=\"dataframe\">\n",
       "  <thead>\n",
       "    <tr style=\"text-align: right;\">\n",
       "      <th></th>\n",
       "      <th>Customer</th>\n",
       "      <th>Month</th>\n",
       "      <th>Monthh</th>\n",
       "      <th>Year</th>\n",
       "      <th>Type</th>\n",
       "      <th>Spend Amount</th>\n",
       "    </tr>\n",
       "    <tr>\n",
       "      <th>Sl No:</th>\n",
       "      <th></th>\n",
       "      <th></th>\n",
       "      <th></th>\n",
       "      <th></th>\n",
       "      <th></th>\n",
       "      <th></th>\n",
       "    </tr>\n",
       "  </thead>\n",
       "  <tbody>\n",
       "    <tr>\n",
       "      <th>1</th>\n",
       "      <td>A1</td>\n",
       "      <td>12-Jan-04</td>\n",
       "      <td>01Jan</td>\n",
       "      <td>2004</td>\n",
       "      <td>JEWELLERY</td>\n",
       "      <td>473775.83</td>\n",
       "    </tr>\n",
       "    <tr>\n",
       "      <th>2</th>\n",
       "      <td>A1</td>\n",
       "      <td>03-Jan-04</td>\n",
       "      <td>01Jan</td>\n",
       "      <td>2004</td>\n",
       "      <td>PETRO</td>\n",
       "      <td>335578.67</td>\n",
       "    </tr>\n",
       "    <tr>\n",
       "      <th>3</th>\n",
       "      <td>A1</td>\n",
       "      <td>15-Jan-04</td>\n",
       "      <td>01Jan</td>\n",
       "      <td>2004</td>\n",
       "      <td>CLOTHES</td>\n",
       "      <td>371040.94</td>\n",
       "    </tr>\n",
       "    <tr>\n",
       "      <th>4</th>\n",
       "      <td>A1</td>\n",
       "      <td>25-Jan-04</td>\n",
       "      <td>01Jan</td>\n",
       "      <td>2004</td>\n",
       "      <td>FOOD</td>\n",
       "      <td>141177.81</td>\n",
       "    </tr>\n",
       "    <tr>\n",
       "      <th>5</th>\n",
       "      <td>A1</td>\n",
       "      <td>17-Jan-05</td>\n",
       "      <td>01Jan</td>\n",
       "      <td>2005</td>\n",
       "      <td>CAMERA</td>\n",
       "      <td>398403.77</td>\n",
       "    </tr>\n",
       "  </tbody>\n",
       "</table>\n",
       "</div>"
      ],
      "text/plain": [
       "       Customer      Month Monthh  Year       Type  Spend Amount\n",
       "Sl No:                                                          \n",
       "1            A1  12-Jan-04  01Jan  2004  JEWELLERY     473775.83\n",
       "2            A1  03-Jan-04  01Jan  2004      PETRO     335578.67\n",
       "3            A1  15-Jan-04  01Jan  2004    CLOTHES     371040.94\n",
       "4            A1  25-Jan-04  01Jan  2004       FOOD     141177.81\n",
       "5            A1  17-Jan-05  01Jan  2005     CAMERA     398403.77"
      ]
     },
     "execution_count": 85,
     "metadata": {},
     "output_type": "execute_result"
    }
   ],
   "source": [
    "spend=pd.read_csv(\"E:\\Edulyt Projects\\Proj 1\\spend.csv\",index_col=0)\n",
    "spend.head()"
   ]
  },
  {
   "cell_type": "code",
   "execution_count": 78,
   "id": "6cdf859b",
   "metadata": {},
   "outputs": [
    {
     "data": {
      "text/html": [
       "<div>\n",
       "<style scoped>\n",
       "    .dataframe tbody tr th:only-of-type {\n",
       "        vertical-align: middle;\n",
       "    }\n",
       "\n",
       "    .dataframe tbody tr th {\n",
       "        vertical-align: top;\n",
       "    }\n",
       "\n",
       "    .dataframe thead th {\n",
       "        text-align: right;\n",
       "    }\n",
       "</style>\n",
       "<table border=\"1\" class=\"dataframe\">\n",
       "  <thead>\n",
       "    <tr style=\"text-align: right;\">\n",
       "      <th></th>\n",
       "      <th>Customer</th>\n",
       "      <th>Month</th>\n",
       "      <th>Monthh</th>\n",
       "      <th>Year</th>\n",
       "      <th>Repayment Amount</th>\n",
       "    </tr>\n",
       "    <tr>\n",
       "      <th>SL No:</th>\n",
       "      <th></th>\n",
       "      <th></th>\n",
       "      <th></th>\n",
       "      <th></th>\n",
       "      <th></th>\n",
       "    </tr>\n",
       "  </thead>\n",
       "  <tbody>\n",
       "    <tr>\n",
       "      <th>1</th>\n",
       "      <td>A1</td>\n",
       "      <td>12-Jan-04</td>\n",
       "      <td>01Jan</td>\n",
       "      <td>2004</td>\n",
       "      <td>331844.01</td>\n",
       "    </tr>\n",
       "    <tr>\n",
       "      <th>2</th>\n",
       "      <td>A1</td>\n",
       "      <td>03-Jan-04</td>\n",
       "      <td>01Jan</td>\n",
       "      <td>2004</td>\n",
       "      <td>441139.81</td>\n",
       "    </tr>\n",
       "    <tr>\n",
       "      <th>3</th>\n",
       "      <td>A1</td>\n",
       "      <td>15-Jan-04</td>\n",
       "      <td>01Jan</td>\n",
       "      <td>2004</td>\n",
       "      <td>32480.00</td>\n",
       "    </tr>\n",
       "    <tr>\n",
       "      <th>4</th>\n",
       "      <td>A1</td>\n",
       "      <td>25-Jan-04</td>\n",
       "      <td>01Jan</td>\n",
       "      <td>2004</td>\n",
       "      <td>90636.97</td>\n",
       "    </tr>\n",
       "    <tr>\n",
       "      <th>5</th>\n",
       "      <td>A1</td>\n",
       "      <td>17-Jan-05</td>\n",
       "      <td>01Jan</td>\n",
       "      <td>2005</td>\n",
       "      <td>1581.97</td>\n",
       "    </tr>\n",
       "  </tbody>\n",
       "</table>\n",
       "</div>"
      ],
      "text/plain": [
       "       Customer      Month Monthh  Year  Repayment Amount\n",
       "SL No:                                                   \n",
       "1            A1  12-Jan-04  01Jan  2004         331844.01\n",
       "2            A1  03-Jan-04  01Jan  2004         441139.81\n",
       "3            A1  15-Jan-04  01Jan  2004          32480.00\n",
       "4            A1  25-Jan-04  01Jan  2004          90636.97\n",
       "5            A1  17-Jan-05  01Jan  2005           1581.97"
      ]
     },
     "execution_count": 78,
     "metadata": {},
     "output_type": "execute_result"
    }
   ],
   "source": [
    "repayment=pd.read_csv(r\"E:\\Edulyt Projects\\Proj 1\\repayment.csv\",index_col=0)\n",
    "repayment.head()"
   ]
  },
  {
   "cell_type": "markdown",
   "id": "4b242c50",
   "metadata": {},
   "source": [
    "## Monthly Spend of each Customer"
   ]
  },
  {
   "cell_type": "code",
   "execution_count": 102,
   "id": "6725741c",
   "metadata": {},
   "outputs": [
    {
     "data": {
      "text/plain": [
       "Customer  Year  Monthh\n",
       "A1        2004  01Jan     1511172.74\n",
       "                02Feb       41381.11\n",
       "                05May      131196.59\n",
       "          2005  01Jan      398403.77\n",
       "                02Feb     1404193.04\n",
       "                             ...    \n",
       "A95       2004  01Jan      347833.88\n",
       "A96       2004  01Jan      320363.54\n",
       "A97       2004  01Jan      164330.04\n",
       "A98       2004  01Jan       87483.51\n",
       "A99       2004  01Jan      476020.39\n",
       "Name: Spend Amount, Length: 807, dtype: float64"
      ]
     },
     "execution_count": 102,
     "metadata": {},
     "output_type": "execute_result"
    }
   ],
   "source": [
    "spend.groupby(['Customer','Year','Monthh']).sum()['Spend Amount']"
   ]
  },
  {
   "cell_type": "markdown",
   "id": "83c030d8",
   "metadata": {},
   "source": [
    "## Monthly Repayment of each Customer"
   ]
  },
  {
   "cell_type": "code",
   "execution_count": 103,
   "id": "90279edf",
   "metadata": {},
   "outputs": [
    {
     "data": {
      "text/plain": [
       "Customer  Year  Monthh\n",
       "A1        2004  01Jan     1362775.24\n",
       "                02Feb      191180.01\n",
       "          2005  01Jan        1581.97\n",
       "                02Feb     1199807.63\n",
       "                07Jul      300581.70\n",
       "                             ...    \n",
       "A95       2004  01Jan       75109.49\n",
       "A96       2004  01Jan      110139.01\n",
       "A97       2004  01Jan      174606.39\n",
       "A98       2004  01Jan       97802.60\n",
       "A99       2004  01Jan      358589.92\n",
       "Name: Repayment Amount, Length: 798, dtype: float64"
      ]
     },
     "execution_count": 103,
     "metadata": {},
     "output_type": "execute_result"
    }
   ],
   "source": [
    "repayment.groupby(['Customer','Year','Monthh']).sum()['Repayment Amount']"
   ]
  },
  {
   "cell_type": "markdown",
   "id": "de81b7e2",
   "metadata": {},
   "source": [
    "## 10 Highest paying Customers"
   ]
  },
  {
   "cell_type": "code",
   "execution_count": 5,
   "id": "2ed69938",
   "metadata": {},
   "outputs": [
    {
     "data": {
      "text/html": [
       "<div>\n",
       "<style scoped>\n",
       "    .dataframe tbody tr th:only-of-type {\n",
       "        vertical-align: middle;\n",
       "    }\n",
       "\n",
       "    .dataframe tbody tr th {\n",
       "        vertical-align: top;\n",
       "    }\n",
       "\n",
       "    .dataframe thead th {\n",
       "        text-align: right;\n",
       "    }\n",
       "</style>\n",
       "<table border=\"1\" class=\"dataframe\">\n",
       "  <thead>\n",
       "    <tr style=\"text-align: right;\">\n",
       "      <th></th>\n",
       "      <th>Customer</th>\n",
       "      <th>ReptAmt</th>\n",
       "    </tr>\n",
       "    <tr>\n",
       "      <th>Sl No:</th>\n",
       "      <th></th>\n",
       "      <th></th>\n",
       "    </tr>\n",
       "  </thead>\n",
       "  <tbody>\n",
       "    <tr>\n",
       "      <th>22</th>\n",
       "      <td>A22</td>\n",
       "      <td>9767170.68</td>\n",
       "    </tr>\n",
       "    <tr>\n",
       "      <th>60</th>\n",
       "      <td>A60</td>\n",
       "      <td>9262032.37</td>\n",
       "    </tr>\n",
       "    <tr>\n",
       "      <th>61</th>\n",
       "      <td>A61</td>\n",
       "      <td>8807888.34</td>\n",
       "    </tr>\n",
       "    <tr>\n",
       "      <th>40</th>\n",
       "      <td>A40</td>\n",
       "      <td>8805084.90</td>\n",
       "    </tr>\n",
       "    <tr>\n",
       "      <th>47</th>\n",
       "      <td>A47</td>\n",
       "      <td>8529825.86</td>\n",
       "    </tr>\n",
       "    <tr>\n",
       "      <th>43</th>\n",
       "      <td>A43</td>\n",
       "      <td>8458621.33</td>\n",
       "    </tr>\n",
       "    <tr>\n",
       "      <th>48</th>\n",
       "      <td>A48</td>\n",
       "      <td>8432803.66</td>\n",
       "    </tr>\n",
       "    <tr>\n",
       "      <th>41</th>\n",
       "      <td>A41</td>\n",
       "      <td>8374045.76</td>\n",
       "    </tr>\n",
       "    <tr>\n",
       "      <th>49</th>\n",
       "      <td>A49</td>\n",
       "      <td>8259840.55</td>\n",
       "    </tr>\n",
       "    <tr>\n",
       "      <th>45</th>\n",
       "      <td>A45</td>\n",
       "      <td>8115209.87</td>\n",
       "    </tr>\n",
       "  </tbody>\n",
       "</table>\n",
       "</div>"
      ],
      "text/plain": [
       "       Customer     ReptAmt\n",
       "Sl No:                     \n",
       "22          A22  9767170.68\n",
       "60          A60  9262032.37\n",
       "61          A61  8807888.34\n",
       "40          A40  8805084.90\n",
       "47          A47  8529825.86\n",
       "43          A43  8458621.33\n",
       "48          A48  8432803.66\n",
       "41          A41  8374045.76\n",
       "49          A49  8259840.55\n",
       "45          A45  8115209.87"
      ]
     },
     "execution_count": 5,
     "metadata": {},
     "output_type": "execute_result"
    }
   ],
   "source": [
    "certi.sort_values(by=['ReptAmt']).tail(10)[['Customer','ReptAmt']][::-1]"
   ]
  },
  {
   "cell_type": "markdown",
   "id": "a7decf60",
   "metadata": {},
   "source": [
    "## Maximum Spending Segment"
   ]
  },
  {
   "cell_type": "code",
   "execution_count": 6,
   "id": "0f0dba11",
   "metadata": {},
   "outputs": [
    {
     "data": {
      "text/html": [
       "<div>\n",
       "<style scoped>\n",
       "    .dataframe tbody tr th:only-of-type {\n",
       "        vertical-align: middle;\n",
       "    }\n",
       "\n",
       "    .dataframe tbody tr th {\n",
       "        vertical-align: top;\n",
       "    }\n",
       "\n",
       "    .dataframe thead th {\n",
       "        text-align: right;\n",
       "    }\n",
       "</style>\n",
       "<table border=\"1\" class=\"dataframe\">\n",
       "  <thead>\n",
       "    <tr style=\"text-align: right;\">\n",
       "      <th></th>\n",
       "      <th>SpendAmt</th>\n",
       "    </tr>\n",
       "    <tr>\n",
       "      <th>Segment</th>\n",
       "      <th></th>\n",
       "    </tr>\n",
       "  </thead>\n",
       "  <tbody>\n",
       "    <tr>\n",
       "      <th>Normal Salary</th>\n",
       "      <td>1.077071e+08</td>\n",
       "    </tr>\n",
       "  </tbody>\n",
       "</table>\n",
       "</div>"
      ],
      "text/plain": [
       "                   SpendAmt\n",
       "Segment                    \n",
       "Normal Salary  1.077071e+08"
      ]
     },
     "execution_count": 6,
     "metadata": {},
     "output_type": "execute_result"
    }
   ],
   "source": [
    "certi.groupby('Segment')[['Segment','SpendAmt']].sum().sort_values(by=['SpendAmt'])[::-1].head(1)"
   ]
  },
  {
   "cell_type": "markdown",
   "id": "5eef6083",
   "metadata": {},
   "source": [
    "## Maximum Spending Age Group"
   ]
  },
  {
   "cell_type": "code",
   "execution_count": 7,
   "id": "c861fc60",
   "metadata": {},
   "outputs": [
    {
     "data": {
      "text/html": [
       "<div>\n",
       "<style scoped>\n",
       "    .dataframe tbody tr th:only-of-type {\n",
       "        vertical-align: middle;\n",
       "    }\n",
       "\n",
       "    .dataframe tbody tr th {\n",
       "        vertical-align: top;\n",
       "    }\n",
       "\n",
       "    .dataframe thead th {\n",
       "        text-align: right;\n",
       "    }\n",
       "</style>\n",
       "<table border=\"1\" class=\"dataframe\">\n",
       "  <thead>\n",
       "    <tr style=\"text-align: right;\">\n",
       "      <th></th>\n",
       "      <th>SpendAmt</th>\n",
       "    </tr>\n",
       "    <tr>\n",
       "      <th>AgeGrp</th>\n",
       "      <th></th>\n",
       "    </tr>\n",
       "  </thead>\n",
       "  <tbody>\n",
       "    <tr>\n",
       "      <th>40-50</th>\n",
       "      <td>1.357128e+08</td>\n",
       "    </tr>\n",
       "  </tbody>\n",
       "</table>\n",
       "</div>"
      ],
      "text/plain": [
       "            SpendAmt\n",
       "AgeGrp              \n",
       "40-50   1.357128e+08"
      ]
     },
     "execution_count": 7,
     "metadata": {},
     "output_type": "execute_result"
    }
   ],
   "source": [
    "certi.groupby('AgeGrp')[['AgeGrp','SpendAmt']].sum().sort_values(by=['SpendAmt'])[::-1].head(1)"
   ]
  },
  {
   "cell_type": "markdown",
   "id": "e087073f",
   "metadata": {},
   "source": [
    "## Category wise Maximum Spending (Segment, Age Group, City, Credit Card Product, Company,Type)"
   ]
  },
  {
   "cell_type": "markdown",
   "id": "29a0209a",
   "metadata": {},
   "source": [
    "### 1. Maximum Spending Segment"
   ]
  },
  {
   "cell_type": "code",
   "execution_count": 8,
   "id": "3c8c0f35",
   "metadata": {},
   "outputs": [
    {
     "data": {
      "text/html": [
       "<div>\n",
       "<style scoped>\n",
       "    .dataframe tbody tr th:only-of-type {\n",
       "        vertical-align: middle;\n",
       "    }\n",
       "\n",
       "    .dataframe tbody tr th {\n",
       "        vertical-align: top;\n",
       "    }\n",
       "\n",
       "    .dataframe thead th {\n",
       "        text-align: right;\n",
       "    }\n",
       "</style>\n",
       "<table border=\"1\" class=\"dataframe\">\n",
       "  <thead>\n",
       "    <tr style=\"text-align: right;\">\n",
       "      <th></th>\n",
       "      <th>SpendAmt</th>\n",
       "    </tr>\n",
       "    <tr>\n",
       "      <th>Segment</th>\n",
       "      <th></th>\n",
       "    </tr>\n",
       "  </thead>\n",
       "  <tbody>\n",
       "    <tr>\n",
       "      <th>Normal Salary</th>\n",
       "      <td>1.077071e+08</td>\n",
       "    </tr>\n",
       "  </tbody>\n",
       "</table>\n",
       "</div>"
      ],
      "text/plain": [
       "                   SpendAmt\n",
       "Segment                    \n",
       "Normal Salary  1.077071e+08"
      ]
     },
     "execution_count": 8,
     "metadata": {},
     "output_type": "execute_result"
    }
   ],
   "source": [
    "certi.groupby('Segment')[['Segment','SpendAmt']].sum().sort_values(by=['SpendAmt'])[::-1].head(1)"
   ]
  },
  {
   "cell_type": "markdown",
   "id": "c6146292",
   "metadata": {},
   "source": [
    "### 2. Maximum Spending Age Group"
   ]
  },
  {
   "cell_type": "code",
   "execution_count": 9,
   "id": "6d070948",
   "metadata": {},
   "outputs": [
    {
     "data": {
      "text/html": [
       "<div>\n",
       "<style scoped>\n",
       "    .dataframe tbody tr th:only-of-type {\n",
       "        vertical-align: middle;\n",
       "    }\n",
       "\n",
       "    .dataframe tbody tr th {\n",
       "        vertical-align: top;\n",
       "    }\n",
       "\n",
       "    .dataframe thead th {\n",
       "        text-align: right;\n",
       "    }\n",
       "</style>\n",
       "<table border=\"1\" class=\"dataframe\">\n",
       "  <thead>\n",
       "    <tr style=\"text-align: right;\">\n",
       "      <th></th>\n",
       "      <th>SpendAmt</th>\n",
       "    </tr>\n",
       "    <tr>\n",
       "      <th>AgeGrp</th>\n",
       "      <th></th>\n",
       "    </tr>\n",
       "  </thead>\n",
       "  <tbody>\n",
       "    <tr>\n",
       "      <th>40-50</th>\n",
       "      <td>1.357128e+08</td>\n",
       "    </tr>\n",
       "  </tbody>\n",
       "</table>\n",
       "</div>"
      ],
      "text/plain": [
       "            SpendAmt\n",
       "AgeGrp              \n",
       "40-50   1.357128e+08"
      ]
     },
     "execution_count": 9,
     "metadata": {},
     "output_type": "execute_result"
    }
   ],
   "source": [
    "certi.groupby('AgeGrp')[['AgeGrp','SpendAmt']].sum().sort_values(by=['SpendAmt'])[::-1].head(1)"
   ]
  },
  {
   "cell_type": "markdown",
   "id": "8c42ee97",
   "metadata": {},
   "source": [
    "### 3. Maximum Spending City"
   ]
  },
  {
   "cell_type": "code",
   "execution_count": 10,
   "id": "26ddc84b",
   "metadata": {},
   "outputs": [
    {
     "data": {
      "text/html": [
       "<div>\n",
       "<style scoped>\n",
       "    .dataframe tbody tr th:only-of-type {\n",
       "        vertical-align: middle;\n",
       "    }\n",
       "\n",
       "    .dataframe tbody tr th {\n",
       "        vertical-align: top;\n",
       "    }\n",
       "\n",
       "    .dataframe thead th {\n",
       "        text-align: right;\n",
       "    }\n",
       "</style>\n",
       "<table border=\"1\" class=\"dataframe\">\n",
       "  <thead>\n",
       "    <tr style=\"text-align: right;\">\n",
       "      <th></th>\n",
       "      <th>SpendAmt</th>\n",
       "    </tr>\n",
       "    <tr>\n",
       "      <th>City</th>\n",
       "      <th></th>\n",
       "    </tr>\n",
       "  </thead>\n",
       "  <tbody>\n",
       "    <tr>\n",
       "      <th>COCHIN</th>\n",
       "      <td>78892999.38</td>\n",
       "    </tr>\n",
       "  </tbody>\n",
       "</table>\n",
       "</div>"
      ],
      "text/plain": [
       "           SpendAmt\n",
       "City               \n",
       "COCHIN  78892999.38"
      ]
     },
     "execution_count": 10,
     "metadata": {},
     "output_type": "execute_result"
    }
   ],
   "source": [
    "certi.groupby('City')[['City','SpendAmt']].sum().sort_values(by=['SpendAmt'])[::-1].head(1)"
   ]
  },
  {
   "cell_type": "markdown",
   "id": "fe868e1a",
   "metadata": {},
   "source": [
    "### 4. Maximum Spending Credit Card Product"
   ]
  },
  {
   "cell_type": "code",
   "execution_count": 11,
   "id": "c60322a3",
   "metadata": {},
   "outputs": [
    {
     "data": {
      "text/html": [
       "<div>\n",
       "<style scoped>\n",
       "    .dataframe tbody tr th:only-of-type {\n",
       "        vertical-align: middle;\n",
       "    }\n",
       "\n",
       "    .dataframe tbody tr th {\n",
       "        vertical-align: top;\n",
       "    }\n",
       "\n",
       "    .dataframe thead th {\n",
       "        text-align: right;\n",
       "    }\n",
       "</style>\n",
       "<table border=\"1\" class=\"dataframe\">\n",
       "  <thead>\n",
       "    <tr style=\"text-align: right;\">\n",
       "      <th></th>\n",
       "      <th>SpendAmt</th>\n",
       "    </tr>\n",
       "    <tr>\n",
       "      <th>Credit Card Product</th>\n",
       "      <th></th>\n",
       "    </tr>\n",
       "  </thead>\n",
       "  <tbody>\n",
       "    <tr>\n",
       "      <th>Gold</th>\n",
       "      <td>1.512157e+08</td>\n",
       "    </tr>\n",
       "  </tbody>\n",
       "</table>\n",
       "</div>"
      ],
      "text/plain": [
       "                         SpendAmt\n",
       "Credit Card Product              \n",
       "Gold                 1.512157e+08"
      ]
     },
     "execution_count": 11,
     "metadata": {},
     "output_type": "execute_result"
    }
   ],
   "source": [
    "certi.groupby('Credit Card Product')[['Credit Card Product','SpendAmt']].sum().sort_values(by=['SpendAmt'])[::-1].head(1)"
   ]
  },
  {
   "cell_type": "markdown",
   "id": "8f6b6964",
   "metadata": {},
   "source": [
    "### 5. Maximum Spending Company"
   ]
  },
  {
   "cell_type": "code",
   "execution_count": 12,
   "id": "c28a0e4e",
   "metadata": {},
   "outputs": [
    {
     "data": {
      "text/html": [
       "<div>\n",
       "<style scoped>\n",
       "    .dataframe tbody tr th:only-of-type {\n",
       "        vertical-align: middle;\n",
       "    }\n",
       "\n",
       "    .dataframe tbody tr th {\n",
       "        vertical-align: top;\n",
       "    }\n",
       "\n",
       "    .dataframe thead th {\n",
       "        text-align: right;\n",
       "    }\n",
       "</style>\n",
       "<table border=\"1\" class=\"dataframe\">\n",
       "  <thead>\n",
       "    <tr style=\"text-align: right;\">\n",
       "      <th></th>\n",
       "      <th>SpendAmt</th>\n",
       "    </tr>\n",
       "    <tr>\n",
       "      <th>Company</th>\n",
       "      <th></th>\n",
       "    </tr>\n",
       "  </thead>\n",
       "  <tbody>\n",
       "    <tr>\n",
       "      <th>C22</th>\n",
       "      <td>29026550.08</td>\n",
       "    </tr>\n",
       "  </tbody>\n",
       "</table>\n",
       "</div>"
      ],
      "text/plain": [
       "            SpendAmt\n",
       "Company             \n",
       "C22      29026550.08"
      ]
     },
     "execution_count": 12,
     "metadata": {},
     "output_type": "execute_result"
    }
   ],
   "source": [
    "certi.groupby('Company')[['Company','SpendAmt']].sum().sort_values(by=['SpendAmt'])[::-1].head(1)"
   ]
  },
  {
   "cell_type": "markdown",
   "id": "2a5b4830",
   "metadata": {},
   "source": [
    "### 6. Maximum Spending Type"
   ]
  },
  {
   "cell_type": "code",
   "execution_count": 76,
   "id": "990b8f67",
   "metadata": {},
   "outputs": [
    {
     "data": {
      "text/html": [
       "<div>\n",
       "<style scoped>\n",
       "    .dataframe tbody tr th:only-of-type {\n",
       "        vertical-align: middle;\n",
       "    }\n",
       "\n",
       "    .dataframe tbody tr th {\n",
       "        vertical-align: top;\n",
       "    }\n",
       "\n",
       "    .dataframe thead th {\n",
       "        text-align: right;\n",
       "    }\n",
       "</style>\n",
       "<table border=\"1\" class=\"dataframe\">\n",
       "  <thead>\n",
       "    <tr style=\"text-align: right;\">\n",
       "      <th></th>\n",
       "      <th>Spend Amount</th>\n",
       "    </tr>\n",
       "    <tr>\n",
       "      <th>Type</th>\n",
       "      <th></th>\n",
       "    </tr>\n",
       "  </thead>\n",
       "  <tbody>\n",
       "    <tr>\n",
       "      <th>PETRO</th>\n",
       "      <td>51022582.7</td>\n",
       "    </tr>\n",
       "  </tbody>\n",
       "</table>\n",
       "</div>"
      ],
      "text/plain": [
       "       Spend Amount\n",
       "Type               \n",
       "PETRO    51022582.7"
      ]
     },
     "execution_count": 76,
     "metadata": {},
     "output_type": "execute_result"
    }
   ],
   "source": [
    "spend.groupby('Type')[['Type','Spend Amount']].sum().sort_values(by=['Spend Amount'],ascending=False).head(1)"
   ]
  },
  {
   "cell_type": "markdown",
   "id": "abbc4e4a",
   "metadata": {},
   "source": [
    "# Profit Values"
   ]
  },
  {
   "cell_type": "markdown",
   "id": "701cf779",
   "metadata": {},
   "source": [
    "Step1: Merging Certification and Spend tables"
   ]
  },
  {
   "cell_type": "code",
   "execution_count": 86,
   "id": "40e3c3a9",
   "metadata": {},
   "outputs": [
    {
     "data": {
      "text/html": [
       "<div>\n",
       "<style scoped>\n",
       "    .dataframe tbody tr th:only-of-type {\n",
       "        vertical-align: middle;\n",
       "    }\n",
       "\n",
       "    .dataframe tbody tr th {\n",
       "        vertical-align: top;\n",
       "    }\n",
       "\n",
       "    .dataframe thead th {\n",
       "        text-align: right;\n",
       "    }\n",
       "</style>\n",
       "<table border=\"1\" class=\"dataframe\">\n",
       "  <thead>\n",
       "    <tr style=\"text-align: right;\">\n",
       "      <th></th>\n",
       "      <th>Customer</th>\n",
       "      <th>Age</th>\n",
       "      <th>City</th>\n",
       "      <th>Credit Card Product</th>\n",
       "      <th>Limit</th>\n",
       "      <th>Company</th>\n",
       "      <th>Segment</th>\n",
       "      <th>AGE main</th>\n",
       "      <th>SpendAmt</th>\n",
       "      <th>ReptAmt</th>\n",
       "      <th>AgeGrp</th>\n",
       "      <th>Month</th>\n",
       "      <th>Monthh</th>\n",
       "      <th>Year</th>\n",
       "      <th>Type</th>\n",
       "      <th>Spend Amount</th>\n",
       "    </tr>\n",
       "  </thead>\n",
       "  <tbody>\n",
       "    <tr>\n",
       "      <th>0</th>\n",
       "      <td>A1</td>\n",
       "      <td>0.9285</td>\n",
       "      <td>BANGALORE</td>\n",
       "      <td>Gold</td>\n",
       "      <td>500000</td>\n",
       "      <td>C1</td>\n",
       "      <td>Self Employed</td>\n",
       "      <td>49.29</td>\n",
       "      <td>4858294.33</td>\n",
       "      <td>3831937.75</td>\n",
       "      <td>40-50</td>\n",
       "      <td>12-Jan-04</td>\n",
       "      <td>01Jan</td>\n",
       "      <td>2004</td>\n",
       "      <td>JEWELLERY</td>\n",
       "      <td>473775.83</td>\n",
       "    </tr>\n",
       "    <tr>\n",
       "      <th>1</th>\n",
       "      <td>A1</td>\n",
       "      <td>0.9285</td>\n",
       "      <td>BANGALORE</td>\n",
       "      <td>Gold</td>\n",
       "      <td>500000</td>\n",
       "      <td>C1</td>\n",
       "      <td>Self Employed</td>\n",
       "      <td>49.29</td>\n",
       "      <td>4858294.33</td>\n",
       "      <td>3831937.75</td>\n",
       "      <td>40-50</td>\n",
       "      <td>03-Jan-04</td>\n",
       "      <td>01Jan</td>\n",
       "      <td>2004</td>\n",
       "      <td>PETRO</td>\n",
       "      <td>335578.67</td>\n",
       "    </tr>\n",
       "    <tr>\n",
       "      <th>2</th>\n",
       "      <td>A1</td>\n",
       "      <td>0.9285</td>\n",
       "      <td>BANGALORE</td>\n",
       "      <td>Gold</td>\n",
       "      <td>500000</td>\n",
       "      <td>C1</td>\n",
       "      <td>Self Employed</td>\n",
       "      <td>49.29</td>\n",
       "      <td>4858294.33</td>\n",
       "      <td>3831937.75</td>\n",
       "      <td>40-50</td>\n",
       "      <td>15-Jan-04</td>\n",
       "      <td>01Jan</td>\n",
       "      <td>2004</td>\n",
       "      <td>CLOTHES</td>\n",
       "      <td>371040.94</td>\n",
       "    </tr>\n",
       "    <tr>\n",
       "      <th>3</th>\n",
       "      <td>A1</td>\n",
       "      <td>0.9285</td>\n",
       "      <td>BANGALORE</td>\n",
       "      <td>Gold</td>\n",
       "      <td>500000</td>\n",
       "      <td>C1</td>\n",
       "      <td>Self Employed</td>\n",
       "      <td>49.29</td>\n",
       "      <td>4858294.33</td>\n",
       "      <td>3831937.75</td>\n",
       "      <td>40-50</td>\n",
       "      <td>25-Jan-04</td>\n",
       "      <td>01Jan</td>\n",
       "      <td>2004</td>\n",
       "      <td>FOOD</td>\n",
       "      <td>141177.81</td>\n",
       "    </tr>\n",
       "    <tr>\n",
       "      <th>4</th>\n",
       "      <td>A1</td>\n",
       "      <td>0.9285</td>\n",
       "      <td>BANGALORE</td>\n",
       "      <td>Gold</td>\n",
       "      <td>500000</td>\n",
       "      <td>C1</td>\n",
       "      <td>Self Employed</td>\n",
       "      <td>49.29</td>\n",
       "      <td>4858294.33</td>\n",
       "      <td>3831937.75</td>\n",
       "      <td>40-50</td>\n",
       "      <td>17-Jan-05</td>\n",
       "      <td>01Jan</td>\n",
       "      <td>2005</td>\n",
       "      <td>CAMERA</td>\n",
       "      <td>398403.77</td>\n",
       "    </tr>\n",
       "  </tbody>\n",
       "</table>\n",
       "</div>"
      ],
      "text/plain": [
       "  Customer     Age       City Credit Card Product   Limit Company  \\\n",
       "0       A1  0.9285  BANGALORE                Gold  500000      C1   \n",
       "1       A1  0.9285  BANGALORE                Gold  500000      C1   \n",
       "2       A1  0.9285  BANGALORE                Gold  500000      C1   \n",
       "3       A1  0.9285  BANGALORE                Gold  500000      C1   \n",
       "4       A1  0.9285  BANGALORE                Gold  500000      C1   \n",
       "\n",
       "         Segment  AGE main    SpendAmt     ReptAmt AgeGrp      Month Monthh  \\\n",
       "0  Self Employed     49.29  4858294.33  3831937.75  40-50  12-Jan-04  01Jan   \n",
       "1  Self Employed     49.29  4858294.33  3831937.75  40-50  03-Jan-04  01Jan   \n",
       "2  Self Employed     49.29  4858294.33  3831937.75  40-50  15-Jan-04  01Jan   \n",
       "3  Self Employed     49.29  4858294.33  3831937.75  40-50  25-Jan-04  01Jan   \n",
       "4  Self Employed     49.29  4858294.33  3831937.75  40-50  17-Jan-05  01Jan   \n",
       "\n",
       "   Year       Type  Spend Amount  \n",
       "0  2004  JEWELLERY     473775.83  \n",
       "1  2004      PETRO     335578.67  \n",
       "2  2004    CLOTHES     371040.94  \n",
       "3  2004       FOOD     141177.81  \n",
       "4  2005     CAMERA     398403.77  "
      ]
     },
     "execution_count": 86,
     "metadata": {},
     "output_type": "execute_result"
    }
   ],
   "source": [
    "common_table=pd.merge(certi,spend,on='Customer',how='outer')\n",
    "common_table.head()"
   ]
  },
  {
   "cell_type": "markdown",
   "id": "f201c3ca",
   "metadata": {},
   "source": [
    "Step2: Merging Certification and Repayment tables"
   ]
  },
  {
   "cell_type": "code",
   "execution_count": 80,
   "id": "aebce1a9",
   "metadata": {},
   "outputs": [
    {
     "data": {
      "text/html": [
       "<div>\n",
       "<style scoped>\n",
       "    .dataframe tbody tr th:only-of-type {\n",
       "        vertical-align: middle;\n",
       "    }\n",
       "\n",
       "    .dataframe tbody tr th {\n",
       "        vertical-align: top;\n",
       "    }\n",
       "\n",
       "    .dataframe thead th {\n",
       "        text-align: right;\n",
       "    }\n",
       "</style>\n",
       "<table border=\"1\" class=\"dataframe\">\n",
       "  <thead>\n",
       "    <tr style=\"text-align: right;\">\n",
       "      <th></th>\n",
       "      <th>Customer</th>\n",
       "      <th>Age</th>\n",
       "      <th>City</th>\n",
       "      <th>Credit Card Product</th>\n",
       "      <th>Limit</th>\n",
       "      <th>Company</th>\n",
       "      <th>Segment</th>\n",
       "      <th>AGE main</th>\n",
       "      <th>SpendAmt</th>\n",
       "      <th>ReptAmt</th>\n",
       "      <th>AgeGrp</th>\n",
       "      <th>Month</th>\n",
       "      <th>Monthh</th>\n",
       "      <th>Year</th>\n",
       "      <th>Repayment Amount</th>\n",
       "    </tr>\n",
       "  </thead>\n",
       "  <tbody>\n",
       "    <tr>\n",
       "      <th>0</th>\n",
       "      <td>A1</td>\n",
       "      <td>0.9285</td>\n",
       "      <td>BANGALORE</td>\n",
       "      <td>Gold</td>\n",
       "      <td>500000</td>\n",
       "      <td>C1</td>\n",
       "      <td>Self Employed</td>\n",
       "      <td>49.29</td>\n",
       "      <td>4858294.33</td>\n",
       "      <td>3831937.75</td>\n",
       "      <td>40-50</td>\n",
       "      <td>12-Jan-04</td>\n",
       "      <td>01Jan</td>\n",
       "      <td>2004</td>\n",
       "      <td>331844.01</td>\n",
       "    </tr>\n",
       "    <tr>\n",
       "      <th>1</th>\n",
       "      <td>A1</td>\n",
       "      <td>0.9285</td>\n",
       "      <td>BANGALORE</td>\n",
       "      <td>Gold</td>\n",
       "      <td>500000</td>\n",
       "      <td>C1</td>\n",
       "      <td>Self Employed</td>\n",
       "      <td>49.29</td>\n",
       "      <td>4858294.33</td>\n",
       "      <td>3831937.75</td>\n",
       "      <td>40-50</td>\n",
       "      <td>03-Jan-04</td>\n",
       "      <td>01Jan</td>\n",
       "      <td>2004</td>\n",
       "      <td>441139.81</td>\n",
       "    </tr>\n",
       "    <tr>\n",
       "      <th>2</th>\n",
       "      <td>A1</td>\n",
       "      <td>0.9285</td>\n",
       "      <td>BANGALORE</td>\n",
       "      <td>Gold</td>\n",
       "      <td>500000</td>\n",
       "      <td>C1</td>\n",
       "      <td>Self Employed</td>\n",
       "      <td>49.29</td>\n",
       "      <td>4858294.33</td>\n",
       "      <td>3831937.75</td>\n",
       "      <td>40-50</td>\n",
       "      <td>15-Jan-04</td>\n",
       "      <td>01Jan</td>\n",
       "      <td>2004</td>\n",
       "      <td>32480.00</td>\n",
       "    </tr>\n",
       "    <tr>\n",
       "      <th>3</th>\n",
       "      <td>A1</td>\n",
       "      <td>0.9285</td>\n",
       "      <td>BANGALORE</td>\n",
       "      <td>Gold</td>\n",
       "      <td>500000</td>\n",
       "      <td>C1</td>\n",
       "      <td>Self Employed</td>\n",
       "      <td>49.29</td>\n",
       "      <td>4858294.33</td>\n",
       "      <td>3831937.75</td>\n",
       "      <td>40-50</td>\n",
       "      <td>25-Jan-04</td>\n",
       "      <td>01Jan</td>\n",
       "      <td>2004</td>\n",
       "      <td>90636.97</td>\n",
       "    </tr>\n",
       "    <tr>\n",
       "      <th>4</th>\n",
       "      <td>A1</td>\n",
       "      <td>0.9285</td>\n",
       "      <td>BANGALORE</td>\n",
       "      <td>Gold</td>\n",
       "      <td>500000</td>\n",
       "      <td>C1</td>\n",
       "      <td>Self Employed</td>\n",
       "      <td>49.29</td>\n",
       "      <td>4858294.33</td>\n",
       "      <td>3831937.75</td>\n",
       "      <td>40-50</td>\n",
       "      <td>17-Jan-05</td>\n",
       "      <td>01Jan</td>\n",
       "      <td>2005</td>\n",
       "      <td>1581.97</td>\n",
       "    </tr>\n",
       "  </tbody>\n",
       "</table>\n",
       "</div>"
      ],
      "text/plain": [
       "  Customer     Age       City Credit Card Product   Limit Company  \\\n",
       "0       A1  0.9285  BANGALORE                Gold  500000      C1   \n",
       "1       A1  0.9285  BANGALORE                Gold  500000      C1   \n",
       "2       A1  0.9285  BANGALORE                Gold  500000      C1   \n",
       "3       A1  0.9285  BANGALORE                Gold  500000      C1   \n",
       "4       A1  0.9285  BANGALORE                Gold  500000      C1   \n",
       "\n",
       "         Segment  AGE main    SpendAmt     ReptAmt AgeGrp      Month Monthh  \\\n",
       "0  Self Employed     49.29  4858294.33  3831937.75  40-50  12-Jan-04  01Jan   \n",
       "1  Self Employed     49.29  4858294.33  3831937.75  40-50  03-Jan-04  01Jan   \n",
       "2  Self Employed     49.29  4858294.33  3831937.75  40-50  15-Jan-04  01Jan   \n",
       "3  Self Employed     49.29  4858294.33  3831937.75  40-50  25-Jan-04  01Jan   \n",
       "4  Self Employed     49.29  4858294.33  3831937.75  40-50  17-Jan-05  01Jan   \n",
       "\n",
       "   Year  Repayment Amount  \n",
       "0  2004         331844.01  \n",
       "1  2004         441139.81  \n",
       "2  2004          32480.00  \n",
       "3  2004          90636.97  \n",
       "4  2005           1581.97  "
      ]
     },
     "execution_count": 80,
     "metadata": {},
     "output_type": "execute_result"
    }
   ],
   "source": [
    "common_table2=pd.merge(certi,repayment,on='Customer',how='outer')\n",
    "common_table2.head()"
   ]
  },
  {
   "cell_type": "markdown",
   "id": "f3e068a1",
   "metadata": {},
   "source": [
    "Step3: Grouping both the tables per customer per month including Limit and Segment columns"
   ]
  },
  {
   "cell_type": "code",
   "execution_count": 90,
   "id": "e0a6b8fb",
   "metadata": {},
   "outputs": [
    {
     "data": {
      "text/plain": [
       "Customer  Limit   Segment        Year  Monthh\n",
       "A1        500000  Self Employed  2004  01Jan     1511172.74\n",
       "                                       02Feb       41381.11\n",
       "                                       05May      131196.59\n",
       "                                 2005  01Jan      398403.77\n",
       "                                       02Feb     1404193.04\n",
       "Name: Spend Amount, dtype: float64"
      ]
     },
     "execution_count": 90,
     "metadata": {},
     "output_type": "execute_result"
    }
   ],
   "source": [
    "comonS=common_table.groupby(['Customer','Limit','Segment','Year','Monthh']).sum()['Spend Amount']\n",
    "comonS.head()"
   ]
  },
  {
   "cell_type": "code",
   "execution_count": 89,
   "id": "89a6a322",
   "metadata": {},
   "outputs": [
    {
     "data": {
      "text/plain": [
       "Customer  Limit   Segment        Year  Monthh\n",
       "A1        500000  Self Employed  2004  01Jan     1362775.24\n",
       "                                       02Feb      191180.01\n",
       "                                 2005  01Jan        1581.97\n",
       "                                       02Feb     1199807.63\n",
       "                                       07Jul      300581.70\n",
       "Name: Repayment Amount, dtype: float64"
      ]
     },
     "execution_count": 89,
     "metadata": {},
     "output_type": "execute_result"
    }
   ],
   "source": [
    "comonR=common_table2.groupby(['Customer','Limit','Segment','Year','Monthh']).sum()['Repayment Amount']\n",
    "comonR.head()"
   ]
  },
  {
   "cell_type": "markdown",
   "id": "ae9794f3",
   "metadata": {},
   "source": [
    "Step4: Merging the grouped tables on outer join, to get the missing values"
   ]
  },
  {
   "cell_type": "code",
   "execution_count": 91,
   "id": "a3aa2759",
   "metadata": {},
   "outputs": [
    {
     "data": {
      "text/html": [
       "<div>\n",
       "<style scoped>\n",
       "    .dataframe tbody tr th:only-of-type {\n",
       "        vertical-align: middle;\n",
       "    }\n",
       "\n",
       "    .dataframe tbody tr th {\n",
       "        vertical-align: top;\n",
       "    }\n",
       "\n",
       "    .dataframe thead th {\n",
       "        text-align: right;\n",
       "    }\n",
       "</style>\n",
       "<table border=\"1\" class=\"dataframe\">\n",
       "  <thead>\n",
       "    <tr style=\"text-align: right;\">\n",
       "      <th></th>\n",
       "      <th></th>\n",
       "      <th></th>\n",
       "      <th></th>\n",
       "      <th></th>\n",
       "      <th>Spend Amount</th>\n",
       "      <th>Repayment Amount</th>\n",
       "    </tr>\n",
       "    <tr>\n",
       "      <th>Customer</th>\n",
       "      <th>Year</th>\n",
       "      <th>Monthh</th>\n",
       "      <th>Limit</th>\n",
       "      <th>Segment</th>\n",
       "      <th></th>\n",
       "      <th></th>\n",
       "    </tr>\n",
       "  </thead>\n",
       "  <tbody>\n",
       "    <tr>\n",
       "      <th rowspan=\"5\" valign=\"top\">A1</th>\n",
       "      <th rowspan=\"3\" valign=\"top\">2004</th>\n",
       "      <th>01Jan</th>\n",
       "      <th>500000</th>\n",
       "      <th>Self Employed</th>\n",
       "      <td>1511172.74</td>\n",
       "      <td>1362775.24</td>\n",
       "    </tr>\n",
       "    <tr>\n",
       "      <th>02Feb</th>\n",
       "      <th>500000</th>\n",
       "      <th>Self Employed</th>\n",
       "      <td>41381.11</td>\n",
       "      <td>191180.01</td>\n",
       "    </tr>\n",
       "    <tr>\n",
       "      <th>05May</th>\n",
       "      <th>500000</th>\n",
       "      <th>Self Employed</th>\n",
       "      <td>131196.59</td>\n",
       "      <td>NaN</td>\n",
       "    </tr>\n",
       "    <tr>\n",
       "      <th rowspan=\"2\" valign=\"top\">2005</th>\n",
       "      <th>01Jan</th>\n",
       "      <th>500000</th>\n",
       "      <th>Self Employed</th>\n",
       "      <td>398403.77</td>\n",
       "      <td>1581.97</td>\n",
       "    </tr>\n",
       "    <tr>\n",
       "      <th>02Feb</th>\n",
       "      <th>500000</th>\n",
       "      <th>Self Employed</th>\n",
       "      <td>1404193.04</td>\n",
       "      <td>1199807.63</td>\n",
       "    </tr>\n",
       "  </tbody>\n",
       "</table>\n",
       "</div>"
      ],
      "text/plain": [
       "                                           Spend Amount  Repayment Amount\n",
       "Customer Year Monthh Limit  Segment                                      \n",
       "A1       2004 01Jan  500000 Self Employed    1511172.74        1362775.24\n",
       "              02Feb  500000 Self Employed      41381.11         191180.01\n",
       "              05May  500000 Self Employed     131196.59               NaN\n",
       "         2005 01Jan  500000 Self Employed     398403.77           1581.97\n",
       "              02Feb  500000 Self Employed    1404193.04        1199807.63"
      ]
     },
     "execution_count": 91,
     "metadata": {},
     "output_type": "execute_result"
    }
   ],
   "source": [
    "main_c_table1=pd.merge(comonS,comonR,on=['Customer','Year','Monthh','Limit','Segment'],how='outer')\n",
    "main_c_table1.head()"
   ]
  },
  {
   "cell_type": "markdown",
   "id": "0cae45f1",
   "metadata": {},
   "source": [
    "Step5: Re-importing the main merged table in order to convert Limit and Segment into columns"
   ]
  },
  {
   "cell_type": "code",
   "execution_count": 92,
   "id": "df54a0bc",
   "metadata": {},
   "outputs": [],
   "source": [
    "main_c_table1.to_csv('mt1')"
   ]
  },
  {
   "cell_type": "code",
   "execution_count": 2,
   "id": "a7c4e9d7",
   "metadata": {},
   "outputs": [
    {
     "data": {
      "text/html": [
       "<div>\n",
       "<style scoped>\n",
       "    .dataframe tbody tr th:only-of-type {\n",
       "        vertical-align: middle;\n",
       "    }\n",
       "\n",
       "    .dataframe tbody tr th {\n",
       "        vertical-align: top;\n",
       "    }\n",
       "\n",
       "    .dataframe thead th {\n",
       "        text-align: right;\n",
       "    }\n",
       "</style>\n",
       "<table border=\"1\" class=\"dataframe\">\n",
       "  <thead>\n",
       "    <tr style=\"text-align: right;\">\n",
       "      <th></th>\n",
       "      <th>Customer</th>\n",
       "      <th>Year</th>\n",
       "      <th>Monthh</th>\n",
       "      <th>Limit</th>\n",
       "      <th>Segment</th>\n",
       "      <th>Spend Amount</th>\n",
       "      <th>Repayment Amount</th>\n",
       "    </tr>\n",
       "  </thead>\n",
       "  <tbody>\n",
       "    <tr>\n",
       "      <th>0</th>\n",
       "      <td>A1</td>\n",
       "      <td>2004</td>\n",
       "      <td>01Jan</td>\n",
       "      <td>500000</td>\n",
       "      <td>Self Employed</td>\n",
       "      <td>1511172.74</td>\n",
       "      <td>1362775.24</td>\n",
       "    </tr>\n",
       "    <tr>\n",
       "      <th>1</th>\n",
       "      <td>A1</td>\n",
       "      <td>2004</td>\n",
       "      <td>02Feb</td>\n",
       "      <td>500000</td>\n",
       "      <td>Self Employed</td>\n",
       "      <td>41381.11</td>\n",
       "      <td>191180.01</td>\n",
       "    </tr>\n",
       "    <tr>\n",
       "      <th>2</th>\n",
       "      <td>A1</td>\n",
       "      <td>2004</td>\n",
       "      <td>05May</td>\n",
       "      <td>500000</td>\n",
       "      <td>Self Employed</td>\n",
       "      <td>131196.59</td>\n",
       "      <td>NaN</td>\n",
       "    </tr>\n",
       "    <tr>\n",
       "      <th>3</th>\n",
       "      <td>A1</td>\n",
       "      <td>2005</td>\n",
       "      <td>01Jan</td>\n",
       "      <td>500000</td>\n",
       "      <td>Self Employed</td>\n",
       "      <td>398403.77</td>\n",
       "      <td>1581.97</td>\n",
       "    </tr>\n",
       "    <tr>\n",
       "      <th>4</th>\n",
       "      <td>A1</td>\n",
       "      <td>2005</td>\n",
       "      <td>02Feb</td>\n",
       "      <td>500000</td>\n",
       "      <td>Self Employed</td>\n",
       "      <td>1404193.04</td>\n",
       "      <td>1199807.63</td>\n",
       "    </tr>\n",
       "  </tbody>\n",
       "</table>\n",
       "</div>"
      ],
      "text/plain": [
       "  Customer  Year Monthh   Limit        Segment  Spend Amount  Repayment Amount\n",
       "0       A1  2004  01Jan  500000  Self Employed    1511172.74        1362775.24\n",
       "1       A1  2004  02Feb  500000  Self Employed      41381.11         191180.01\n",
       "2       A1  2004  05May  500000  Self Employed     131196.59               NaN\n",
       "3       A1  2005  01Jan  500000  Self Employed     398403.77           1581.97\n",
       "4       A1  2005  02Feb  500000  Self Employed    1404193.04        1199807.63"
      ]
     },
     "execution_count": 2,
     "metadata": {},
     "output_type": "execute_result"
    }
   ],
   "source": [
    "mt1=pd.read_csv('mt1.csv')\n",
    "mt1.head()"
   ]
  },
  {
   "cell_type": "markdown",
   "id": "b7df5162",
   "metadata": {},
   "source": [
    "Step6: Replacing null vallues with 0"
   ]
  },
  {
   "cell_type": "code",
   "execution_count": 3,
   "id": "6f7fbb72",
   "metadata": {},
   "outputs": [],
   "source": [
    "mt1.fillna(0,inplace=True)"
   ]
  },
  {
   "cell_type": "markdown",
   "id": "33e12116",
   "metadata": {},
   "source": [
    "Step7: Applying Credit and Intrest amount on the customers per month with the help of a user defined function"
   ]
  },
  {
   "cell_type": "code",
   "execution_count": 4,
   "id": "97e9146d",
   "metadata": {},
   "outputs": [],
   "source": [
    "def Action(r,s,l):\n",
    "    if r>s:\n",
    "        return -0.02*l\n",
    "    else:\n",
    "        return 0.029*(s-r)"
   ]
  },
  {
   "cell_type": "markdown",
   "id": "d2530560",
   "metadata": {},
   "source": [
    "Step8: Introducing a new column 'Profit' which contains the calculated value given by the funtion used"
   ]
  },
  {
   "cell_type": "code",
   "execution_count": 5,
   "id": "51350cea",
   "metadata": {},
   "outputs": [],
   "source": [
    "mt1['Profit']=mt1.apply(lambda x:Action(x['Repayment Amount'],x['Spend Amount'],x['Limit']),axis=1)"
   ]
  },
  {
   "cell_type": "code",
   "execution_count": 6,
   "id": "57242d22",
   "metadata": {},
   "outputs": [
    {
     "data": {
      "text/html": [
       "<div>\n",
       "<style scoped>\n",
       "    .dataframe tbody tr th:only-of-type {\n",
       "        vertical-align: middle;\n",
       "    }\n",
       "\n",
       "    .dataframe tbody tr th {\n",
       "        vertical-align: top;\n",
       "    }\n",
       "\n",
       "    .dataframe thead th {\n",
       "        text-align: right;\n",
       "    }\n",
       "</style>\n",
       "<table border=\"1\" class=\"dataframe\">\n",
       "  <thead>\n",
       "    <tr style=\"text-align: right;\">\n",
       "      <th></th>\n",
       "      <th>Customer</th>\n",
       "      <th>Year</th>\n",
       "      <th>Monthh</th>\n",
       "      <th>Limit</th>\n",
       "      <th>Segment</th>\n",
       "      <th>Spend Amount</th>\n",
       "      <th>Repayment Amount</th>\n",
       "      <th>Profit</th>\n",
       "    </tr>\n",
       "  </thead>\n",
       "  <tbody>\n",
       "    <tr>\n",
       "      <th>0</th>\n",
       "      <td>A1</td>\n",
       "      <td>2004</td>\n",
       "      <td>01Jan</td>\n",
       "      <td>500000</td>\n",
       "      <td>Self Employed</td>\n",
       "      <td>1511172.74</td>\n",
       "      <td>1362775.24</td>\n",
       "      <td>4303.52750</td>\n",
       "    </tr>\n",
       "    <tr>\n",
       "      <th>1</th>\n",
       "      <td>A1</td>\n",
       "      <td>2004</td>\n",
       "      <td>02Feb</td>\n",
       "      <td>500000</td>\n",
       "      <td>Self Employed</td>\n",
       "      <td>41381.11</td>\n",
       "      <td>191180.01</td>\n",
       "      <td>-10000.00000</td>\n",
       "    </tr>\n",
       "    <tr>\n",
       "      <th>2</th>\n",
       "      <td>A1</td>\n",
       "      <td>2004</td>\n",
       "      <td>05May</td>\n",
       "      <td>500000</td>\n",
       "      <td>Self Employed</td>\n",
       "      <td>131196.59</td>\n",
       "      <td>0.00</td>\n",
       "      <td>3804.70111</td>\n",
       "    </tr>\n",
       "    <tr>\n",
       "      <th>3</th>\n",
       "      <td>A1</td>\n",
       "      <td>2005</td>\n",
       "      <td>01Jan</td>\n",
       "      <td>500000</td>\n",
       "      <td>Self Employed</td>\n",
       "      <td>398403.77</td>\n",
       "      <td>1581.97</td>\n",
       "      <td>11507.83220</td>\n",
       "    </tr>\n",
       "    <tr>\n",
       "      <th>4</th>\n",
       "      <td>A1</td>\n",
       "      <td>2005</td>\n",
       "      <td>02Feb</td>\n",
       "      <td>500000</td>\n",
       "      <td>Self Employed</td>\n",
       "      <td>1404193.04</td>\n",
       "      <td>1199807.63</td>\n",
       "      <td>5927.17689</td>\n",
       "    </tr>\n",
       "  </tbody>\n",
       "</table>\n",
       "</div>"
      ],
      "text/plain": [
       "  Customer  Year Monthh   Limit        Segment  Spend Amount  \\\n",
       "0       A1  2004  01Jan  500000  Self Employed    1511172.74   \n",
       "1       A1  2004  02Feb  500000  Self Employed      41381.11   \n",
       "2       A1  2004  05May  500000  Self Employed     131196.59   \n",
       "3       A1  2005  01Jan  500000  Self Employed     398403.77   \n",
       "4       A1  2005  02Feb  500000  Self Employed    1404193.04   \n",
       "\n",
       "   Repayment Amount       Profit  \n",
       "0        1362775.24   4303.52750  \n",
       "1         191180.01 -10000.00000  \n",
       "2              0.00   3804.70111  \n",
       "3           1581.97  11507.83220  \n",
       "4        1199807.63   5927.17689  "
      ]
     },
     "execution_count": 6,
     "metadata": {},
     "output_type": "execute_result"
    }
   ],
   "source": [
    "mt1.head()"
   ]
  },
  {
   "cell_type": "markdown",
   "id": "4f1bc7e3",
   "metadata": {},
   "source": [
    "## Most Profitable Segment"
   ]
  },
  {
   "cell_type": "code",
   "execution_count": 9,
   "id": "335067d1",
   "metadata": {},
   "outputs": [],
   "source": [
    "Seg_Prof=mt1.groupby('Segment').sum()['Profit']"
   ]
  },
  {
   "cell_type": "code",
   "execution_count": 10,
   "id": "c3ad9428",
   "metadata": {},
   "outputs": [
    {
     "data": {
      "text/plain": [
       "Segment\n",
       "Normal Salary    656033.39099\n",
       "Name: Profit, dtype: float64"
      ]
     },
     "execution_count": 10,
     "metadata": {},
     "output_type": "execute_result"
    }
   ],
   "source": [
    "Seg_Prof[Seg_Prof==Seg_Prof.max()]"
   ]
  },
  {
   "cell_type": "markdown",
   "id": "ed3a50b7",
   "metadata": {},
   "source": [
    "## Monthly Profit of the Bank"
   ]
  },
  {
   "cell_type": "code",
   "execution_count": 15,
   "id": "f99a87a7",
   "metadata": {},
   "outputs": [
    {
     "data": {
      "text/plain": [
       "Year  Monthh\n",
       "2004  01Jan     408523.08802\n",
       "      02Feb      96515.60473\n",
       "      03Mar      41346.31386\n",
       "      04Apr      57058.96681\n",
       "      05May       1254.37583\n",
       "      09Sep      29144.15163\n",
       "      11Nov      39429.55727\n",
       "2005  01Jan      44564.68842\n",
       "      02Feb     207085.44582\n",
       "      04Apr      57960.17094\n",
       "      05May      79476.32311\n",
       "      06Jun     164566.33891\n",
       "      07Jul      16596.32366\n",
       "      08Aug      28086.36166\n",
       "      09Sep      46081.99374\n",
       "      10Oct      29211.67160\n",
       "      11Nov     140355.38085\n",
       "      12Dec      20985.16998\n",
       "2006  01Jan      34424.25225\n",
       "      02Feb      74721.08243\n",
       "      03Mar     263787.00748\n",
       "      04Apr     205504.41198\n",
       "      05May     -30569.33178\n",
       "      06Jun      28025.07899\n",
       "      07Jul      42034.84974\n",
       "      08Aug       4692.80945\n",
       "      09Sep      32836.23849\n",
       "      10Oct       2489.94014\n",
       "      11Nov      89997.71483\n",
       "      12Dec      12400.55385\n",
       "Name: Profit, dtype: float64"
      ]
     },
     "execution_count": 15,
     "metadata": {},
     "output_type": "execute_result"
    }
   ],
   "source": [
    "mt1.groupby(['Year','Monthh']).sum()['Profit']"
   ]
  }
 ],
 "metadata": {
  "kernelspec": {
   "display_name": "Python 3 (ipykernel)",
   "language": "python",
   "name": "python3"
  },
  "language_info": {
   "codemirror_mode": {
    "name": "ipython",
    "version": 3
   },
   "file_extension": ".py",
   "mimetype": "text/x-python",
   "name": "python",
   "nbconvert_exporter": "python",
   "pygments_lexer": "ipython3",
   "version": "3.9.12"
  }
 },
 "nbformat": 4,
 "nbformat_minor": 5
}
